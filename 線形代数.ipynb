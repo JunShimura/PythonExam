{
  "nbformat": 4,
  "nbformat_minor": 0,
  "metadata": {
    "colab": {
      "provenance": [],
      "authorship_tag": "ABX9TyOrZFXIraEVYi2F6zfDR+CZ",
      "include_colab_link": true
    },
    "kernelspec": {
      "name": "python3",
      "display_name": "Python 3"
    },
    "language_info": {
      "name": "python"
    }
  },
  "cells": [
    {
      "cell_type": "markdown",
      "metadata": {
        "id": "view-in-github",
        "colab_type": "text"
      },
      "source": [
        "<a href=\"https://colab.research.google.com/github/JunShimura/PythonExam/blob/main/%E7%B7%9A%E5%BD%A2%E4%BB%A3%E6%95%B0.ipynb\" target=\"_parent\"><img src=\"https://colab.research.google.com/assets/colab-badge.svg\" alt=\"Open In Colab\"/></a>"
      ]
    },
    {
      "cell_type": "markdown",
      "source": [
        "グラムシュミットの正規直交基底"
      ],
      "metadata": {
        "id": "55XPS7O1kiFL"
      }
    },
    {
      "cell_type": "code",
      "execution_count": 2,
      "metadata": {
        "colab": {
          "base_uri": "https://localhost:8080/"
        },
        "id": "ZH-q28-ikeDq",
        "outputId": "5b7cc52a-be67-4be9-d510-e67b378a6834"
      },
      "outputs": [
        {
          "output_type": "stream",
          "name": "stdout",
          "text": [
            "Collecting numpy\n",
            "  Using cached numpy-1.21.6-cp37-cp37m-win_amd64.whl.metadata (2.2 kB)\n",
            "Using cached numpy-1.21.6-cp37-cp37m-win_amd64.whl (14.0 MB)\n",
            "Installing collected packages: numpy\n",
            "Successfully installed numpy-1.21.6\n",
            "正規直交基底:\n",
            "[[ 0.70710678  0.70710678  0.        ]\n",
            " [ 0.40824829 -0.40824829  0.81649658]\n",
            " [-0.57735027  0.57735027  0.57735027]]\n"
          ]
        }
      ],
      "source": [
        "# prompt: グラムシュミットの正規直交基底\n",
        "!pip install numpy\n",
        "import numpy as np\n",
        "\n",
        "def gram_schmidt(vectors):\n",
        "    orthogonal_basis = []\n",
        "    for v in vectors:\n",
        "        # 直交成分を計算\n",
        "        for u in orthogonal_basis:\n",
        "            v = v - np.dot(v, u) * u\n",
        "        # 正規化\n",
        "        v = v / np.linalg.norm(v)\n",
        "        orthogonal_basis.append(v)\n",
        "    return np.array(orthogonal_basis)\n",
        "\n",
        "# 入力ベクトル\n",
        "vectors = np.array([[1, 1, 0], [1, 0, 1], [0, 1, 1]])\n",
        "orthogonal_basis = gram_schmidt(vectors)\n",
        "\n",
        "print(\"正規直交基底:\")\n",
        "print(orthogonal_basis)\n"
      ]
    }
  ]
}